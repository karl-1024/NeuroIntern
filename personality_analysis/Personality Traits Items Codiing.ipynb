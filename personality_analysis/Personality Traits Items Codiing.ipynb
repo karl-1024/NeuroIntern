{
 "cells": [
  {
   "cell_type": "code",
   "execution_count": 79,
   "id": "7033266c",
   "metadata": {},
   "outputs": [],
   "source": [
    "import numpy \n",
    "import pandas as pd "
   ]
  },
  {
   "cell_type": "code",
   "execution_count": 80,
   "id": "5bcdce22",
   "metadata": {},
   "outputs": [],
   "source": [
    "df_one = pd.read_excel('allsubj_personality.xlsx', sheet_name='1-Big Five')\n",
    "df_two = pd.read_excel('allsubj_personality.xlsx', sheet_name='2-Intolerance to Uncertainty ')\n",
    "df_three = pd.read_excel('allsubj_personality.xlsx', sheet_name='3-Short NFC scale')\n",
    "df_four = pd.read_excel('allsubj_personality.xlsx', sheet_name='4-Interpersonal Reactivity Inde')\n",
    "df_five = pd.read_excel('allsubj_personality.xlsx', sheet_name='5-Positive and Negative Affect ')\n",
    "df_six = pd.read_excel('allsubj_personality.xlsx', sheet_name='6-Short Schwartz\\'s Value Survey') \n"
   ]
  },
  {
   "cell_type": "markdown",
   "id": "f9b1e316",
   "metadata": {},
   "source": [
    "### Personality Traits Items Codiing"
   ]
  },
  {
   "cell_type": "code",
   "execution_count": 81,
   "id": "8abb5777",
   "metadata": {},
   "outputs": [],
   "source": [
    "##1. BFI-44 (Big Five Inventory)\n"
   ]
  },
  {
   "cell_type": "code",
   "execution_count": 82,
   "id": "ca8d7d52",
   "metadata": {},
   "outputs": [],
   "source": [
    "# Reverse items\n",
    "bfi_reverse = ['A2', 'A6', 'A8', 'A12', 'A18', 'A21', 'A23',\n",
    "               'A27', 'A29', 'A31', 'A35', 'A37', 'A39', 'A41', 'A43']\n",
    "for item in bfi_reverse:\n",
    "    col = [c for c in df_one.columns if c.startswith(item)][0]\n",
    "    df_one[col] = 6 - df_one[col]\n",
    "\n",
    "# Subscales\n",
    "BFI_traits = {\n",
    "    'BFI_O': ['A5', 'A10', 'A15', 'A20', 'A25', 'A30', 'A35', 'A40'],\n",
    "    'BFI_C': ['A3', 'A8', 'A13', 'A18', 'A23', 'A28', 'A33', 'A38', 'A43'],\n",
    "    'BFI_E': ['A1', 'A6', 'A11', 'A16', 'A21', 'A26', 'A31', 'A36'],\n",
    "    'BFI_A': ['A2', 'A7', 'A12', 'A17', 'A22', 'A27', 'A32', 'A37', 'A42'],\n",
    "    'BFI_N': ['A4', 'A9', 'A14', 'A19', 'A24', 'A29', 'A34', 'A39', 'A44']\n",
    "}\n",
    "for trait, items in BFI_traits.items():\n",
    "    cols = [c for c in df_one.columns if any(c.startswith(i) for i in items)]\n",
    "    df_one[trait] = df_one[cols].mean(axis=1)\n"
   ]
  },
  {
   "cell_type": "code",
   "execution_count": 83,
   "id": "7afd4aaf",
   "metadata": {},
   "outputs": [],
   "source": [
    "## 2. IUS-12 (No reverse items)"
   ]
  },
  {
   "cell_type": "code",
   "execution_count": 84,
   "id": "e5030566",
   "metadata": {},
   "outputs": [],
   "source": [
    "ius_items = [f'B{i}' for i in range(1, 13)]\n",
    "cols = [c for c in df_two.columns if any(c.startswith(i) for i in ius_items)]\n",
    "df_two['IUS_Total'] = df_two[cols].mean(axis=1)\n"
   ]
  },
  {
   "cell_type": "code",
   "execution_count": 85,
   "id": "95a2cecb",
   "metadata": {},
   "outputs": [],
   "source": [
    "##3. NFC-15 (Need for Closure)"
   ]
  },
  {
   "cell_type": "code",
   "execution_count": 86,
   "id": "d81575e0",
   "metadata": {},
   "outputs": [],
   "source": [
    "nfc_reverse = ['C14']\n",
    "for item in nfc_reverse:\n",
    "    cols = [c for c in df_three.columns if any(c.startswith(i) for i in nfc_reverse)]\n",
    "    df_three[cols] = 7 - df_three[cols]\n",
    "\n",
    "nfc_items = [f'C{i}' for i in range(1, 16)]\n",
    "cols = [c for c in df_three.columns if any(c.startswith(i) for i in nfc_items)]\n",
    "df_three['NFC_Total'] = df_three[cols].mean(axis=1)\n"
   ]
  },
  {
   "cell_type": "code",
   "execution_count": 87,
   "id": "b0bbae83",
   "metadata": {},
   "outputs": [],
   "source": [
    "## 4 IRI-28 (Empathy)"
   ]
  },
  {
   "cell_type": "code",
   "execution_count": 88,
   "id": "40bc150f",
   "metadata": {},
   "outputs": [],
   "source": [
    "\n",
    "\n",
    "# find all matching columns (e.g. \"D3. ...\", \"D4. ...\", etc.)\n",
    "cols = [c for c in df_four.columns if any(c.startswith(i) for i in iri_reverse)]\n",
    "\n",
    "# reverse score: assuming items are 1–5 Likert, use 6 - response\n",
    "df_four[cols] = 6 - df_four[cols]\n",
    "iri_scales = {\n",
    "    'IRI_PT': [1, 5, 7, 12, 16, 23, 25],\n",
    "    'IRI_FS': [2, 4, 10, 15, 17, 22, 26],\n",
    "    'IRI_EC': [3, 8, 11, 14, 18, 20, 21],\n",
    "    'IRI_PD': [6, 9, 13, 19, 24, 27, 28]\n",
    "}\n",
    "for scale, items in iri_scales.items():\n",
    "    cols = [c for c in df_four.columns if any(c.startswith(f'D{i}') for i in items)]\n",
    "    df_four[scale] = df_four[cols].mean(axis=1)\n"
   ]
  },
  {
   "cell_type": "code",
   "execution_count": 89,
   "id": "4e79c441",
   "metadata": {},
   "outputs": [],
   "source": [
    "## 5. PANAS-20"
   ]
  },
  {
   "cell_type": "code",
   "execution_count": 90,
   "id": "bb95b10c",
   "metadata": {},
   "outputs": [],
   "source": [
    "pa = [1, 3, 5, 9, 10, 12, 14, 16, 17, 19]\n",
    "na = [2, 4, 6, 7, 8, 11, 13, 15, 18, 20]\n",
    "\n",
    "pa_items = [f'E{i}' for i in pa]\n",
    "na_items = [f'E{i}' for i in na]\n",
    "\n",
    "\n",
    "\n",
    "pa_cols = [c for c in df_five.columns if any(c.startswith(i) for i in pa_items)]\n",
    "na_cols = [c for c in df_five.columns if any(c.startswith(i) for i in na_items)]\n",
    "df_five['PANAS_PA'] = df_five[pa_cols].mean(axis=1)\n",
    "df_five['PANAS_NA'] = df_five[na_cols].mean(axis=1)"
   ]
  },
  {
   "cell_type": "code",
   "execution_count": 91,
   "id": "0d5b9445",
   "metadata": {},
   "outputs": [],
   "source": [
    "## 6 SSVS (Short Schwartz Value Survey, No reverse)"
   ]
  },
  {
   "cell_type": "code",
   "execution_count": 92,
   "id": "9268a97e",
   "metadata": {},
   "outputs": [],
   "source": [
    "svs_items = [f'F{i}' for i in range(1, 11)]\n",
    "openness_items = ['F4', 'F5']\n",
    "conservation_items = ['F8', 'F9', 'F10']\n",
    "# Optional grouping\n",
    "\n",
    "\n",
    "\n",
    "openness_cols = [c for c in df_six.columns if any(c.startswith(i) for i in openness_items)]\n",
    "conservation_cols = [c for c in df_six.columns if any(c.startswith(i) for i in conservation_items)]\n",
    "df_six['SVS_Openness'] = df_six[openness_cols].mean(axis=1)\n",
    "df_six['SVS_Conservation'] = df_six[conservation_cols].mean(axis=1)\n"
   ]
  },
  {
   "cell_type": "code",
   "execution_count": 93,
   "id": "a673459d",
   "metadata": {},
   "outputs": [],
   "source": [
    "with pd.ExcelWriter('ffinal_allsubj_personality_coded.xlsx') as writer:\n",
    "    df_one.to_excel(writer, sheet_name='1-Big Five', index=False)\n",
    "    df_two.to_excel(writer, sheet_name='2-Intolerance to Uncertainty ', index=False)\n",
    "    df_three.to_excel(writer, sheet_name='3-Short NFC scale', index=False)\n",
    "    df_four.to_excel(writer, sheet_name='4-Interpersonal Reactivity Inde', index=False)\n",
    "    df_five.to_excel(writer, sheet_name='5-Positive and Negative Affect ', index=False)\n",
    "    df_six.to_excel(writer, sheet_name='6-Short Schwartz\\'s Value Survey', index=False)"
   ]
  },
  {
   "cell_type": "code",
   "execution_count": null,
   "id": "772f0f45",
   "metadata": {},
   "outputs": [],
   "source": []
  },
  {
   "cell_type": "code",
   "execution_count": null,
   "id": "c6d0a571",
   "metadata": {},
   "outputs": [],
   "source": []
  },
  {
   "cell_type": "code",
   "execution_count": null,
   "id": "1c5419b1",
   "metadata": {},
   "outputs": [],
   "source": []
  },
  {
   "cell_type": "code",
   "execution_count": null,
   "id": "e0093b06",
   "metadata": {},
   "outputs": [],
   "source": []
  },
  {
   "cell_type": "code",
   "execution_count": null,
   "id": "6575b0b9",
   "metadata": {},
   "outputs": [],
   "source": []
  }
 ],
 "metadata": {
  "kernelspec": {
   "display_name": "Python 3",
   "language": "python",
   "name": "python3"
  },
  "language_info": {
   "codemirror_mode": {
    "name": "ipython",
    "version": 3
   },
   "file_extension": ".py",
   "mimetype": "text/x-python",
   "name": "python",
   "nbconvert_exporter": "python",
   "pygments_lexer": "ipython3",
   "version": "3.12.3"
  }
 },
 "nbformat": 4,
 "nbformat_minor": 5
}
