{
  "cells": [
    {
      "cell_type": "markdown",
      "metadata": {
        "id": "cHOrYBzgbc0e"
      },
      "source": [
        "Install packages"
      ]
    },
    {
      "cell_type": "code",
      "execution_count": 1,
      "metadata": {
        "colab": {
          "base_uri": "https://localhost:8080/",
          "height": 106
        },
        "id": "fMbAW4XfbYK0",
        "outputId": "76a34034-1cf5-451d-e661-acd34addf02e"
      },
      "outputs": [],
      "source": [
        "import numpy as np\n",
        "import pandas as pd\n",
        "import matplotlib.pyplot as plt\n",
        "import matplotlib.patches as mpatches\n",
        "\n",
        "from factor_analyzer import FactorAnalyzer, calculate_bartlett_sphericity, calculate_kmo\n",
        "import statsmodels.formula.api as smf\n",
        "from statsmodels.stats.outliers_influence import variance_inflation_factor\n",
        "\n"
      ]
    },
    {
      "cell_type": "markdown",
      "metadata": {
        "id": "_kXhg4uibi7X"
      },
      "source": []
    },
    {
      "cell_type": "markdown",
      "metadata": {
        "id": "uGeDQ4wabjcI"
      },
      "source": [
        "2. Factor analysis\n",
        "\n",
        " 2.1.Load the 15 subscales you specified.  \n",
        " 2.2.Clean & z-score subscales so EFA runs on the correlation matrix.  \n",
        " 2.3 Factorability: Bartlett (want p<.05) and KMO (>.60 ok, >.80 great).  \n",
        " 2.4 Pick #factors with scree + parallel analysis (keeps only eigenvalues bigger than the 95th percentile of random).  \n",
        " 2.5 EFA using maximum likelihood + oblimin (factors allowed to correlate).  \n",
        " 2.6 Paper-style bar plot: contiguous bars, one color per questionnaire (BFI, IUS, NFC, IRI, PANAS, SVS), zero line, compact legend.  \n",
        " 2.7 Factor scores (z) for each participant saved to factor_scores_15subscales.csv.  \n",
        " 2.8 Belief change: uses Belief_Change, or computes Post − Pre if both exist.  2.9 Regression: Belief_Change ~ Factors (+ optional age/gender/education), prints full OLS table, draws coefficient CIs, and VIFs.\n",
        "\n",
        "\n"
      ]
    },
    {
      "cell_type": "code",
      "execution_count": null,
      "metadata": {},
      "outputs": [],
      "source": [
        "# ===============================================\n",
        "# EFA on 15 subscales + plots + OLS\n",
        "# ===============================================\n",
        "\n",
        "\n",
        "# ---------------------------\n",
        "# CONFIG — update path ONLY\n",
        "# ---------------------------\n",
        "CSV_PATH = \"ffinal_allsubj_personality_coded.xlsx\"   # <-- your CSV file here\n",
        "ID_COL   = None                          # or \"Subject_ID\" if present\n",
        "MAX_MISSING_ROW_FRAC = 0.2               # drop rows with >20% missing subscales\n",
        "RANDOM_STATE = 42\n",
        "PARALLEL_N_ITER = 500                    # more iters = smoother parallel analysis\n",
        "\n",
        "np.random.seed(RANDOM_STATE)\n",
        "\n",
        "# ------------------------------------\n",
        "# 1) Load CSV and select these columns\n",
        "# ------------------------------------\n",
        "cols_expected = [\n",
        "    \"BFI_O\",\"BFI_C\",\"BFI_E\",\"BFI_A\",\"BFI_N\",\n",
        "    \"IUS_Total\",\"NFC_Total\",\n",
        "    \"IRI_PT\",\"IRI_FS\",\"IRI_EC\",\"IRI_PD\",\n",
        "    \"PANAS_PA\",\"PANAS_NA\",\n",
        "    \"SVS_Openness\",\"SVS_Conservation\"\n",
        "]\n",
        "df_excel = pd.read_excel(CSV_PATH, sheet_name = None)\n",
        "df_excel = pd.concat(df_excel.values(), ignore_index=True)\n",
        "df_excel.to_csv(\"df_raw\", index = None)\n",
        "df_raw = pd.read_csv(\"df_raw\") #converts xlsx to csv\n",
        "\n",
        "missing = [c for c in cols_expected if c not in df_raw.columns]\n",
        "if missing:\n",
        "    raise ValueError(f\"Missing expected columns in CSV: {missing}\")\n",
        "\n",
        "subs = df_raw[cols_expected].copy()\n",
        "subs.head()"
      ]
    },
    {
      "cell_type": "code",
      "execution_count": null,
      "metadata": {},
      "outputs": [],
      "source": []
    },
    {
      "cell_type": "code",
      "execution_count": 14,
      "metadata": {},
      "outputs": [],
      "source": [
        "# ===============================================\n",
        "# EFA on 15 subscales + plots + OLS\n",
        "# ===============================================\n",
        "\n",
        "\n",
        "# ---------------------------\n",
        "# CONFIG — update path ONLY\n",
        "# ---------------------------\n",
        "CSV_PATH = \"final_final_allsubj_personality_coded.xlsx\"   # <-- your CSV file here\n",
        "ID_COL   = None                          # or \"Subject_ID\" if present\n",
        "MAX_MISSING_ROW_FRAC = 0.2               # drop rows with >20% missing subscales\n",
        "RANDOM_STATE = 42\n",
        "PARALLEL_N_ITER = 500                    # more iters = smoother parallel analysis\n",
        "\n",
        "np.random.seed(RANDOM_STATE)\n",
        "\n",
        "# ------------------------------------\n",
        "# 1) Load CSV and select these columns\n",
        "# ------------------------------------\n",
        "cols_expected = [\n",
        "    \"BFI_O\",\"BFI_C\",\"BFI_E\",\"BFI_A\",\"BFI_N\",\n",
        "    \"IUS_Total\",\"NFC_Total\",\n",
        "    \"IRI_PT\",\"IRI_FS\",\"IRI_EC\",\"IRI_PD\",\n",
        "    \"PANAS_PA\",\"PANAS_NA\",\n",
        "    \"SVS_Openness\",\"SVS_Conservation\"\n",
        "]\n",
        "df_sheets = pd.read_excel(CSV_PATH, sheet_name = None)\n",
        "merged_df = None\n",
        "for name, df in df_sheets.items():\n",
        "    df = df.copy()\n",
        "    df[\"SheetName\"] = name  # optional, keep track of sheet origin\n",
        "    if merged_df is None:\n",
        "        merged_df = df\n",
        "    else:\n",
        "        # Merge on 'ID', keep all IDs (outer join)\n",
        "        merged_df = pd.merge(merged_df, df, on=\"sub#\", how=\"outer\", suffixes=('', f'_{name}'))\n",
        "\n",
        "merged_df.to_csv(\"df_raw.csv\", index = False)\n",
        "df_raw = pd.read_csv(\"df_raw.csv\") #converts xlsx to csv\n",
        "\n",
        "missing = [c for c in cols_expected if c not in df_raw.columns]\n",
        "if missing:\n",
        "    raise ValueError(f\"Missing expected columns in CSV: {missing}\")\n",
        "\n",
        "subs = df_raw[cols_expected].copy()\n"
      ]
    },
    {
      "cell_type": "code",
      "execution_count": 19,
      "metadata": {},
      "outputs": [],
      "source": [
        "# ---------------------------\n",
        "# CONFIG — update path ONLY\n",
        "# ---------------------------\n",
        "XLSX_PATH = \"final_final_allsubj_personality_coded.xlsx\"   # <-- your CSV file here\n",
        "ID_COL   = None                          # or \"Subject_ID\" if present\n",
        "MAX_MISSING_ROW_FRAC = 0.2               # drop rows with >20% missing subscales\n",
        "RANDOM_STATE = 42\n",
        "PARALLEL_N_ITER = 500                    # more iters = smoother parallel analysis\n",
        "\n",
        "np.random.seed(RANDOM_STATE)\n",
        "\n",
        "# ------------------------------------\n",
        "# 1) Load CSV and select these columns\n",
        "# ------------------------------------\n",
        "cols_expected = [\n",
        "    \"BFI_O\",\"BFI_C\",\"BFI_E\",\"BFI_A\",\"BFI_N\",\n",
        "    \"IUS_Total\",\"NFC_Total\",\n",
        "    \"IRI_PT\",\"IRI_FS\",\"IRI_EC\",\"IRI_PD\",\n",
        "    \"PANAS_PA\",\"PANAS_NA\",\n",
        "    \"SVS_Openness\",\"SVS_Conservation\"\n",
        "]\n",
        "\n",
        "sheets = pd.read_excel(XLSX_PATH, sheet_name=None)\n",
        "merged_df = None\n",
        "for name, df in sheets.items():\n",
        "    df = df.copy()\n",
        "    df[\"SheetName\"] = name  # optional, keep track of sheet origin\n",
        "    if merged_df is None:\n",
        "        merged_df = df\n",
        "    else:\n",
        "        # Merge on 'ID', keep all IDs (outer join)\n",
        "        merged_df = pd.merge(merged_df, df, on=\"sub#\", how=\"outer\", suffixes=('', f'_{name}'))\n",
        "\n",
        "# Save to CSV\n",
        "merged_df.to_csv(\"df_aligned.csv\", index=False)\n",
        "\n",
        "missing = [c for c in cols_expected if c not in df_raw.columns]\n",
        "if missing:\n",
        "    raise ValueError(f\"Missing expected columns in CSV: {missing}\")\n",
        "\n",
        "subs = df_raw[cols_expected].copy()"
      ]
    },
    {
      "cell_type": "code",
      "execution_count": null,
      "metadata": {},
      "outputs": [],
      "source": []
    },
    {
      "cell_type": "code",
      "execution_count": null,
      "metadata": {
        "id": "Vkvk7TZDbZJv"
      },
      "outputs": [
        {
          "name": "stdout",
          "output_type": "stream",
          "text": [
            "Bartlett’s χ²=576.2, p=3.81e-66 (want p<.05)\n",
            "KMO overall=0.691 (>.60 acceptable; >.80 great)\n"
          ]
        },
        {
          "name": "stderr",
          "output_type": "stream",
          "text": [
            "c:\\Users\\27KarlC\\AppData\\Local\\Programs\\Python\\Python312\\Lib\\site-packages\\sklearn\\utils\\deprecation.py:151: FutureWarning: 'force_all_finite' was renamed to 'ensure_all_finite' in 1.6 and will be removed in 1.8.\n",
            "  warnings.warn(\n"
          ]
        },
        {
          "data": {
            "image/png": "[encoded data removed]",
            "text/plain": [
              "<Figure size 700x400 with 1 Axes>"
            ]
          },
          "metadata": {},
          "output_type": "display_data"
        },
        {
          "name": "stdout",
          "output_type": "stream",
          "text": [
            "Parallel analysis suggests 4 factors; Kaiser>1 suggests 5. → Using n_factors=4\n"
          ]
        },
        {
          "data": {
            "image/png": "[encoded data removed]",
            "text/plain": [
              "<Figure size 700x400 with 1 Axes>"
            ]
          },
          "metadata": {},
          "output_type": "display_data"
        },
        {
          "name": "stderr",
          "output_type": "stream",
          "text": [
            "c:\\Users\\27KarlC\\AppData\\Local\\Programs\\Python\\Python312\\Lib\\site-packages\\sklearn\\utils\\deprecation.py:151: FutureWarning: 'force_all_finite' was renamed to 'ensure_all_finite' in 1.6 and will be removed in 1.8.\n",
            "  warnings.warn(\n",
            "C:\\Users\\27KarlC\\AppData\\Local\\Temp\\ipykernel_24024\\2722339454.py:106: DeprecationWarning: DataFrameGroupBy.apply operated on the grouping columns. This behavior is deprecated, and in a future version of pandas the grouping columns will be excluded from the operation. Either pass `include_groups=False` to exclude the groupings or explicitly select the grouping columns after groupby to silence this warning.\n",
            "  order_first = df.groupby('group').apply(lambda g: cols_expected.index(g['var'].iloc[0]) if g['var'].iloc[0] in cols_expected else 999)\n"
          ]
        },
        {
          "data": {
            "image/png": "[encoded data removed]",
            "text/plain": [
              "<Figure size 1200x360 with 1 Axes>"
            ]
          },
          "metadata": {},
          "output_type": "display_data"
        },
        {
          "name": "stdout",
          "output_type": "stream",
          "text": [
            "Saved factor scores → factor_scores_15subscales.csv\n"
          ]
        },
        {
          "name": "stderr",
          "output_type": "stream",
          "text": [
            "c:\\Users\\27KarlC\\AppData\\Local\\Programs\\Python\\Python312\\Lib\\site-packages\\sklearn\\utils\\deprecation.py:151: FutureWarning: 'force_all_finite' was renamed to 'ensure_all_finite' in 1.6 and will be removed in 1.8.\n",
            "  warnings.warn(\n"
          ]
        },
        {
          "ename": "ValueError",
          "evalue": "Add a 'Belief_Change' column or both 'Belief_Pre' and 'Belief_Post'.",
          "output_type": "error",
          "traceback": [
            "\u001b[31m---------------------------------------------------------------------------\u001b[39m",
            "\u001b[31mValueError\u001b[39m                                Traceback (most recent call last)",
            "\u001b[36mCell\u001b[39m\u001b[36m \u001b[39m\u001b[32mIn[13]\u001b[39m\u001b[32m, line 177\u001b[39m\n\u001b[32m    175\u001b[39m         \u001b[38;5;28mprint\u001b[39m(\u001b[33mf\u001b[39m\u001b[33m\"\u001b[39m\u001b[33mComputed Belief_Change = \u001b[39m\u001b[38;5;132;01m{\u001b[39;00mpost\u001b[38;5;132;01m}\u001b[39;00m\u001b[33m - \u001b[39m\u001b[38;5;132;01m{\u001b[39;00mpre\u001b[38;5;132;01m}\u001b[39;00m\u001b[33m\"\u001b[39m)\n\u001b[32m    176\u001b[39m     \u001b[38;5;28;01melse\u001b[39;00m:\n\u001b[32m--> \u001b[39m\u001b[32m177\u001b[39m         \u001b[38;5;28;01mraise\u001b[39;00m \u001b[38;5;167;01mValueError\u001b[39;00m(\u001b[33m\"\u001b[39m\u001b[33mAdd a \u001b[39m\u001b[33m'\u001b[39m\u001b[33mBelief_Change\u001b[39m\u001b[33m'\u001b[39m\u001b[33m column or both \u001b[39m\u001b[33m'\u001b[39m\u001b[33mBelief_Pre\u001b[39m\u001b[33m'\u001b[39m\u001b[33m and \u001b[39m\u001b[33m'\u001b[39m\u001b[33mBelief_Post\u001b[39m\u001b[33m'\u001b[39m\u001b[33m.\u001b[39m\u001b[33m\"\u001b[39m)\n\u001b[32m    179\u001b[39m design = factor_scores.copy()\n\u001b[32m    180\u001b[39m design[\u001b[33m\"\u001b[39m\u001b[33mBelief_Change\u001b[39m\u001b[33m\"\u001b[39m] = df_work[belief_change_col].values\n",
            "\u001b[31mValueError\u001b[39m: Add a 'Belief_Change' column or both 'Belief_Pre' and 'Belief_Post'."
          ]
        }
      ],
      "source": [
        "\n",
        "\n",
        "# ------------------------------------\n",
        "# 2) Missing data handling & z-scoring\n",
        "# ------------------------------------\n",
        "row_missing = subs.isna().mean(axis=1)\n",
        "keep = row_missing <= MAX_MISSING_ROW_FRAC\n",
        "if (~keep).sum():\n",
        "    print(f\"Dropping {(~keep).sum()} rows (> {int(MAX_MISSING_ROW_FRAC*100)}% missing subscales)\")\n",
        "subs = subs.loc[keep].copy()\n",
        "\n",
        "# mean-impute then z-score\n",
        "subs = subs.apply(lambda s: s.fillna(s.mean()), axis=0)\n",
        "subs_z = (subs - subs.mean()) / subs.std(ddof=0)\n",
        "\n",
        "# ------------------------------------------------\n",
        "# 3) Factorability checks: Bartlett & KMO (sanity)\n",
        "# ------------------------------------------------\n",
        "bart_chi2, bart_p = calculate_bartlett_sphericity(subs_z)\n",
        "kmo_per_item, kmo_overall = calculate_kmo(subs_z)\n",
        "print(f\"Bartlett’s χ²={bart_chi2:.1f}, p={bart_p:.3g} (want p<.05)\")\n",
        "print(f\"KMO overall={kmo_overall:.3f} (>.60 acceptable; >.80 great)\")\n",
        "\n",
        "# ------------------------------------------------\n",
        "# 4) Choose number of factors: Scree + Parallel\n",
        "# ------------------------------------------------\n",
        "fa_tmp = FactorAnalyzer(rotation=None, method=\"ml\")\n",
        "fa_tmp.fit(subs_z)\n",
        "ev, _ = fa_tmp.get_eigenvalues()\n",
        "\n",
        "plt.figure(figsize=(7,4))\n",
        "plt.plot(range(1, len(ev)+1), ev, marker='o')\n",
        "plt.axhline(1, color='r', ls='--')\n",
        "plt.title(\"Scree Plot (Eigenvalues)\")\n",
        "plt.xlabel(\"Factor\")\n",
        "plt.ylabel(\"Eigenvalue\")\n",
        "plt.tight_layout()\n",
        "plt.show()\n",
        "\n",
        "def parallel_analysis_eigs(df, n_iter=500, random_state=42):\n",
        "    rng = np.random.default_rng(random_state)\n",
        "    n, p = df.shape\n",
        "    obs_corr = np.corrcoef(df, rowvar=False)\n",
        "    obs_eigs = np.linalg.eigvalsh(obs_corr)[::-1]\n",
        "    rand_eigs = []\n",
        "    for _ in range(n_iter):\n",
        "        rand = rng.standard_normal(size=(n, p))\n",
        "        rand_corr = np.corrcoef(rand, rowvar=False)\n",
        "        rand_eigs.append(np.linalg.eigvalsh(rand_corr)[::-1])\n",
        "    rand_eigs = np.vstack(rand_eigs)\n",
        "    perc95 = np.percentile(rand_eigs, 95, axis=0)\n",
        "    return obs_eigs, perc95\n",
        "\n",
        "obs_eigs, perc95 = parallel_analysis_eigs(subs_z, n_iter=PARALLEL_N_ITER, random_state=RANDOM_STATE)\n",
        "n_pa = int((obs_eigs > perc95).sum())\n",
        "n_kaiser = int((obs_eigs > 1.0).sum())\n",
        "n_factors = n_pa if n_pa > 0 else max(1, n_kaiser)\n",
        "print(f\"Parallel analysis suggests {n_pa} factors; Kaiser>1 suggests {n_kaiser}. → Using n_factors={n_factors}\")\n",
        "\n",
        "plt.figure(figsize=(7,4))\n",
        "plt.plot(range(1, len(obs_eigs)+1), obs_eigs, marker='o', label='Observed')\n",
        "plt.plot(range(1, len(perc95)+1), perc95, marker='x', label='95% random')\n",
        "plt.title(\"Parallel Analysis\")\n",
        "plt.xlabel(\"Factor\")\n",
        "plt.ylabel(\"Eigenvalue\")\n",
        "plt.legend()\n",
        "plt.tight_layout()\n",
        "plt.show()\n",
        "\n",
        "# ---------------------------------------\n",
        "# 5) EFA (ML + oblimin) on these 15 vars\n",
        "# ---------------------------------------\n",
        "fa = FactorAnalyzer(n_factors=n_factors, rotation=\"oblimin\", method=\"ml\")\n",
        "fa.fit(subs_z)\n",
        "\n",
        "loadings = pd.DataFrame(\n",
        "    fa.loadings_, index=subs_z.columns,\n",
        "    columns=[f\"Factor{i+1}\" for i in range(n_factors)]\n",
        ")\n",
        "\n",
        "# --------------------------------------------------------------\n",
        "# 6) Paper-style grouped bar plot for any factor (like the paper)\n",
        "# --------------------------------------------------------------\n",
        "def which_group(var):\n",
        "    if var.startswith(\"BFI_\"):   return \"BFI\"\n",
        "    if var.startswith(\"IUS_\"):   return \"IUS\"\n",
        "    if var.startswith(\"NFC_\"):   return \"NFC\"\n",
        "    if var.startswith(\"IRI_\"):   return \"IRI\"\n",
        "    if var.startswith(\"PANAS_\"): return \"PANAS\"\n",
        "    if var.startswith(\"SVS_\"):   return \"SVS\"\n",
        "    return \"Other\"\n",
        "\n",
        "palette = {\n",
        "    'BFI':'#999999',   # gray\n",
        "    'IUS':'#E69F00',   # orange\n",
        "    'NFC':'#56B4E9',   # blue\n",
        "    'IRI':'#009E73',   # green\n",
        "    'PANAS':'#F0E442', # yellow\n",
        "    'SVS':'#0072B2',   # dark blue\n",
        "    'Other':'#CC79A7'  # magenta\n",
        "}\n",
        "\n",
        "def plot_factor_bar(loadings_df, factor_name='Factor1', title='Factor 1'):\n",
        "    df = loadings_df[[factor_name]].copy()\n",
        "    df['var']   = df.index\n",
        "    df['group'] = df['var'].map(which_group)\n",
        "    # group order by first appearance in your column list:\n",
        "    order_first = df.groupby('group').apply(lambda g: cols_expected.index(g['var'].iloc[0]) if g['var'].iloc[0] in cols_expected else 999)\n",
        "    group_order = list(order_first.sort_values().index)\n",
        "    # keep original subscale order within each group (based on cols_expected)\n",
        "    orig_pos = {v:i for i,v in enumerate(cols_expected)}\n",
        "    df['orig'] = df['var'].map(orig_pos)\n",
        "    df['group_cat'] = pd.Categorical(df['group'], categories=group_order, ordered=True)\n",
        "    df = df.sort_values(['group_cat','orig'])\n",
        "\n",
        "    x = np.arange(len(df))\n",
        "    y = df[factor_name].values\n",
        "    colors = [palette.get(g,'#999999') for g in df['group']]\n",
        "\n",
        "    plt.figure(figsize=(12, 3.6))\n",
        "    plt.bar(x, y, color=colors, width=0.9)\n",
        "    plt.axhline(0, color='black', lw=1)\n",
        "    plt.ylabel(\"Loadings\")\n",
        "    plt.title(title, loc='left')\n",
        "    plt.xticks([], [])  # hide tick labels\n",
        "\n",
        "    handles = [mpatches.Patch(color=palette[g], label=g) for g in group_order]\n",
        "    plt.legend(handles=handles, title=\"Questionnaires\",\n",
        "               bbox_to_anchor=(1.01, 1), loc='upper left', frameon=False)\n",
        "    plt.tight_layout()\n",
        "    plt.show()\n",
        "\n",
        "# Example: plot for Factor 1 (rename once you interpret it)\n",
        "plot_factor_bar(loadings, 'Factor1', title='Factor 1')\n",
        "\n",
        "# You can also:\n",
        "# for k in range(n_factors): plot_factor_bar(loadings, f'Factor{k+1}', title=f'Factor {k+1}')\n",
        "# plot_factor_bar(loadings, 'Factor2', group_map=group_map, group_order=group_order, title='Factor 2: …')\n",
        "# plot_factor_bar(loadings, 'Factor3', group_map=group_map, group_order=group_order, title='Factor 3: …')\n",
        "\n",
        "# ---------------------------------------\n",
        "# 7) Factor scores (z) for each participant\n",
        "# ---------------------------------------\n",
        "factor_scores = pd.DataFrame(\n",
        "    fa.transform(subs_z),\n",
        "    columns=[f\"Factor{i+1}\" for i in range(n_factors)],\n",
        "    index=subs_z.index\n",
        ")\n",
        "factor_scores = (factor_scores - factor_scores.mean()) / factor_scores.std(ddof=0)\n",
        "\n",
        "# optional save\n",
        "out = factor_scores.copy()\n",
        "if ID_COL and ID_COL in df_raw.columns:\n",
        "    out.insert(0, ID_COL, df_raw.loc[subs_z.index, ID_COL].values)\n",
        "out.to_csv(\"factor_scores_15subscales.csv\", index=False)\n",
        "print(\"Saved factor scores → factor_scores_15subscales.csv\")\n",
        "\n",
        "# ----------------------------------------------------\n",
        "# 8) Outcome: Belief change (existing or pre/post diff)\n",
        "# ----------------------------------------------------\n",
        "df_work = df_raw.loc[subs_z.index].copy()\n",
        "\n",
        "def first_present(cols, candidates):\n",
        "    for c in candidates:\n",
        "        if c in cols: return c\n",
        "    return None\n",
        "\n",
        "belief_change_col = first_present(df_work.columns, [\"Belief_Change\",\"belief_change\",\"delta_belief\"])\n",
        "if belief_change_col is None:\n",
        "    pre  = first_present(df_work.columns, [\"Belief_Pre\",\"belief_pre\",\"pre_belief\"])\n",
        "    post = first_present(df_work.columns, [\"Belief_Post\",\"belief_post\",\"post_belief\"])\n",
        "\n",
        " \n",
        "    if pre and post:\n",
        "        df_work[\"Belief_Change\"] = df_work[post] - df_work[pre]\n",
        "        belief_change_col = \"Belief_Change\"\n",
        "        print(f\"Computed Belief_Change = {post} - {pre}\")\n",
        "    else:\n",
        "        raise ValueError(\"Add a 'Belief_Change' column or both 'Belief_Pre' and 'Belief_Post'.\")\n",
        "\n",
        "design = factor_scores.copy()\n",
        "design[\"Belief_Change\"] = df_work[belief_change_col].values\n",
        "\n",
        "# Auto-add common controls if present\n",
        "for ctl in [\"age\",\"Age\",\"AGE\",\"gender\",\"Gender\",\"education\",\"Education\"]:\n",
        "    if ctl in df_work.columns:\n",
        "        design[ctl] = df_work[ctl].values\n",
        "\n",
        "# ----------------------------------------\n",
        "# 9) OLS: Belief_Change ~ latent factors (+ controls)\n",
        "# ----------------------------------------\n",
        "factor_cols = [c for c in design.columns if c.startswith(\"Factor\")]\n",
        "controls = [c for c in [\"age\",\"Age\",\"AGE\",\"gender\",\"Gender\",\"education\",\"Education\"] if c in design.columns]\n",
        "rhs = \" + \".join(factor_cols + controls) if controls else \" + \".join(factor_cols)\n",
        "formula = f\"Belief_Change ~ {rhs}\"\n",
        "print(\"OLS formula:\", formula)\n",
        "\n",
        "ols = smf.ols(formula, data=design.dropna(subset=[\"Belief_Change\"])).fit()\n",
        "print(ols.summary())\n",
        "\n",
        "# coef plot (factors only)\n",
        "coefs = ols.params.loc[factor_cols]\n",
        "\n"
      ]
    },
    {
      "cell_type": "code",
      "execution_count": null,
      "metadata": {
        "id": "pwgnY23xbZNB"
      },
      "outputs": [],
      "source": []
    },
    {
      "cell_type": "code",
      "execution_count": null,
      "metadata": {
        "id": "Cfgrtji8bZP-"
      },
      "outputs": [],
      "source": []
    }
  ],
  "metadata": {
    "colab": {
      "provenance": []
    },
    "kernelspec": {
      "display_name": "Python 3",
      "name": "python3"
    },
    "language_info": {
      "codemirror_mode": {
        "name": "ipython",
        "version": 3
      },
      "file_extension": ".py",
      "mimetype": "text/x-python",
      "name": "python",
      "nbconvert_exporter": "python",
      "pygments_lexer": "ipython3",
      "version": "3.12.3"
    }
  },
  "nbformat": 4,
  "nbformat_minor": 0
}
